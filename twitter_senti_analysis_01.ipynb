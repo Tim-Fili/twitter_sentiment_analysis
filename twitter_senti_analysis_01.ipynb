{
 "cells": [
  {
   "cell_type": "code",
   "execution_count": 5,
   "id": "319d0fdf",
   "metadata": {},
   "outputs": [
    {
     "name": "stderr",
     "output_type": "stream",
     "text": [
      "[nltk_data] Error loading all: <urlopen error [SSL:\n",
      "[nltk_data]     CERTIFICATE_VERIFY_FAILED] certificate verify failed:\n",
      "[nltk_data]     unable to get local issuer certificate (_ssl.c:1123)>\n"
     ]
    }
   ],
   "source": [
    "from textblob import TextBlob\n",
    "import sys\n",
    "import tweepy\n",
    "from twython import Twython\n",
    "import matplotlib.pyplot as plt\n",
    "import pandas as pd\n",
    "import numpy as np\n",
    "import os\n",
    "import nltk\n",
    "import pycountry\n",
    "import re\n",
    "import string\n",
    "import socket\n",
    "import ssl\n",
    "import nltk\n",
    "nltk.download('all')\n",
    "\n",
    "\n",
    "from wordcloud import WordCloud, STOPWORDS\n",
    "from PIL import Image\n",
    "from nltk.sentiment.vader import SentimentIntensityAnalyzer\n",
    "from langdetect import detect\n",
    "from nltk.stem import SnowballStemmer\n",
    "from nltk.sentiment.vader import SentimentIntensityAnalyzer\n",
    "from sklearn.feature_extraction.text import CountVectorizer"
   ]
  },
  {
   "cell_type": "code",
   "execution_count": 6,
   "id": "8e55a6a7",
   "metadata": {},
   "outputs": [],
   "source": [
    "# Read in config file from local\n",
    "config = pd.read_csv('/Users/tim/Desktop/Projects/config/config_2.csv')"
   ]
  },
  {
   "cell_type": "code",
   "execution_count": 7,
   "id": "7b1aeb7f",
   "metadata": {},
   "outputs": [],
   "source": [
    "# Twitter API config\n",
    "twitterApiKey = config['twitterApiKey'][0]\n",
    "twitterApiSecret = config['twitterApiSecret'][0]\n",
    "twitterApiAccessToken = config['twitterApiAccessToken'][0]\n",
    "twitterApiAccessTokenSecret = config['twitterApiAccessTokenSecret'][0]"
   ]
  },
  {
   "cell_type": "code",
   "execution_count": 8,
   "id": "9789f591",
   "metadata": {},
   "outputs": [
    {
     "name": "stdout",
     "output_type": "stream",
     "text": [
      "Authenticated\n"
     ]
    }
   ],
   "source": [
    "# Authentication\n",
    "auth = tweepy.auth.OAuthHandler(twitterApiKey, twitterApiSecret)\n",
    "auth.set_access_token(twitterApiAccessToken, twitterApiAccessTokenSecret)\n",
    "twitterApi = tweepy.API(auth, wait_on_rate_limit = True)\n",
    "\n",
    "try:\n",
    "  twitterApi.verify_credentials()\n",
    "  print('Authenticated')\n",
    "except:\n",
    "  print('Error authenticating')"
   ]
  },
  {
   "cell_type": "code",
   "execution_count": 9,
   "id": "fdbbf6c6",
   "metadata": {},
   "outputs": [
    {
     "name": "stdout",
     "output_type": "stream",
     "text": [
      "Please enter twitter account: SpaceX\n",
      "Please enter how many tweets to analyze: 100\n",
      "{'neg': 0.0, 'neu': 0.867, 'pos': 0.133, 'compound': 0.1531}\n"
     ]
    }
   ],
   "source": [
    "#Sentiment Analysis\n",
    "def percentage(part,whole):\n",
    " return 100 * float(part)/float(whole)\n",
    "keyword = input('Please enter twitter account: ')\n",
    "noOfTweet = int(input ('Please enter how many tweets to analyze: '))\n",
    "tweets = tweepy.Cursor(twitterApi.search_tweets, q=keyword).items(noOfTweet)\n",
    "positive = 0\n",
    "negative = 0\n",
    "neutral = 0\n",
    "polarity = 0\n",
    "tweet_list = []\n",
    "neutral_list = []\n",
    "negative_list = []\n",
    "positive_list = []\n",
    "\n",
    "for tweet in tweets:\n",
    " \n",
    " #print(tweet.text)\n",
    " tweet_list.append(tweet.text)\n",
    " analysis = TextBlob(tweet.text)\n",
    " score = SentimentIntensityAnalyzer().polarity_scores(tweet.text)\n",
    " neg = score['neg']\n",
    " neu = score['neu']\n",
    " pos = score['pos']\n",
    " comp = score['compound']\n",
    " polarity += analysis.sentiment.polarity\n",
    " \n",
    "if neg > pos:\n",
    "    negative_list.append(tweet.text)\n",
    "    negative += 1\n",
    "elif pos > neg:\n",
    "    positive_list.append(tweet.text)\n",
    "    positive += 1\n",
    "elif pos == neg:\n",
    "    neutral_list.append(tweet.text)\n",
    "    neutral += 1\n",
    "positive = percentage(positive, noOfTweet)\n",
    "negative = percentage(negative, noOfTweet)\n",
    "neutral = percentage(neutral, noOfTweet)\n",
    "polarity = percentage(polarity, noOfTweet)\n",
    "positive = format(positive, '.1f')\n",
    "negative = format(negative, '.1f')\n",
    "neutral = format(neutral, '.1f')\n",
    "print(score)"
   ]
  },
  {
   "cell_type": "code",
   "execution_count": 10,
   "id": "ba114f8a",
   "metadata": {},
   "outputs": [],
   "source": [
    "twitterAccount = keyword"
   ]
  },
  {
   "cell_type": "code",
   "execution_count": 11,
   "id": "20d002f1",
   "metadata": {},
   "outputs": [],
   "source": [
    "tweets = tweepy.Cursor(twitterApi.user_timeline, \n",
    "                        screen_name=keyword, \n",
    "                        count=None,\n",
    "                        since_id=None,\n",
    "                        max_id=None,\n",
    "                        trim_user=True,\n",
    "                        exclude_replies=True,\n",
    "                        contributor_details=False,\n",
    "                        include_entities=False\n",
    "                        ).items(noOfTweet)"
   ]
  },
  {
   "cell_type": "code",
   "execution_count": 12,
   "id": "73fdb628",
   "metadata": {},
   "outputs": [
    {
     "name": "stderr",
     "output_type": "stream",
     "text": [
      "Unexpected parameter: contributor_details\n",
      "Unexpected parameter: include_entities\n",
      "Unexpected parameter: contributor_details\n",
      "Unexpected parameter: include_entities\n",
      "Unexpected parameter: contributor_details\n",
      "Unexpected parameter: include_entities\n",
      "Unexpected parameter: contributor_details\n",
      "Unexpected parameter: include_entities\n",
      "Unexpected parameter: contributor_details\n",
      "Unexpected parameter: include_entities\n",
      "Unexpected parameter: contributor_details\n",
      "Unexpected parameter: include_entities\n"
     ]
    }
   ],
   "source": [
    "df = pd.DataFrame(data=[tweet.text for tweet in tweets], columns=['Tweet'])"
   ]
  },
  {
   "cell_type": "code",
   "execution_count": 13,
   "id": "25404ec0",
   "metadata": {},
   "outputs": [
    {
     "data": {
      "text/html": [
       "<div>\n",
       "<style scoped>\n",
       "    .dataframe tbody tr th:only-of-type {\n",
       "        vertical-align: middle;\n",
       "    }\n",
       "\n",
       "    .dataframe tbody tr th {\n",
       "        vertical-align: top;\n",
       "    }\n",
       "\n",
       "    .dataframe thead th {\n",
       "        text-align: right;\n",
       "    }\n",
       "</style>\n",
       "<table border=\"1\" class=\"dataframe\">\n",
       "  <thead>\n",
       "    <tr style=\"text-align: right;\">\n",
       "      <th></th>\n",
       "      <th>Tweet</th>\n",
       "    </tr>\n",
       "  </thead>\n",
       "  <tbody>\n",
       "    <tr>\n",
       "      <th>0</th>\n",
       "      <td>More photos from last night's Falcon 9 launch ...</td>\n",
       "    </tr>\n",
       "    <tr>\n",
       "      <th>1</th>\n",
       "      <td>Deployment confirmed, @NASA’s DART is on its w...</td>\n",
       "    </tr>\n",
       "    <tr>\n",
       "      <th>2</th>\n",
       "      <td>Second stage engine restart and escape burn co...</td>\n",
       "    </tr>\n",
       "    <tr>\n",
       "      <th>3</th>\n",
       "      <td>Falcon 9’s first stage booster landed on the O...</td>\n",
       "    </tr>\n",
       "    <tr>\n",
       "      <th>4</th>\n",
       "      <td>Second stage engine cutoff confirmed, now in c...</td>\n",
       "    </tr>\n",
       "  </tbody>\n",
       "</table>\n",
       "</div>"
      ],
      "text/plain": [
       "                                               Tweet\n",
       "0  More photos from last night's Falcon 9 launch ...\n",
       "1  Deployment confirmed, @NASA’s DART is on its w...\n",
       "2  Second stage engine restart and escape burn co...\n",
       "3  Falcon 9’s first stage booster landed on the O...\n",
       "4  Second stage engine cutoff confirmed, now in c..."
      ]
     },
     "execution_count": 13,
     "metadata": {},
     "output_type": "execute_result"
    }
   ],
   "source": [
    "df.head()"
   ]
  },
  {
   "cell_type": "code",
   "execution_count": 14,
   "id": "19c4de09",
   "metadata": {},
   "outputs": [],
   "source": [
    "# Cleaning the tweets\n",
    "\n",
    "def cleanUpTweet(txt):\n",
    "    # Remove mentions\n",
    "    txt = re.sub(r'@[A-Za-z0-9_]+', '', txt)\n",
    "    # Remove hashtags\n",
    "    txt = re.sub(r'#', '', txt)\n",
    "    # Remove retweets:\n",
    "    txt = re.sub(r'RT : ', '', txt)\n",
    "    # Remove urls\n",
    "    txt = re.sub(r'https?:\\/\\/[A-Za-z0-9\\.\\/]+', '', txt)\n",
    "    return txt"
   ]
  },
  {
   "cell_type": "code",
   "execution_count": 15,
   "id": "369fda8b",
   "metadata": {},
   "outputs": [],
   "source": [
    "df['Tweet'] = df['Tweet'].apply(cleanUpTweet)"
   ]
  },
  {
   "cell_type": "code",
   "execution_count": 18,
   "id": "da5e4695",
   "metadata": {},
   "outputs": [],
   "source": [
    "def getTextSubjectivity(txt):\n",
    "    return TextBlob(txt).sentiment.subjectivity\n",
    "\n",
    "def getTextPolarity(txt):\n",
    "    return TextBlob(txt).sentiment.polarity"
   ]
  },
  {
   "cell_type": "code",
   "execution_count": 19,
   "id": "2f8c72be",
   "metadata": {},
   "outputs": [],
   "source": [
    "df['Subjectivity'] = df['Tweet'].apply(getTextSubjectivity)\n",
    "df['Polarity'] = df['Tweet'].apply(getTextPolarity)"
   ]
  },
  {
   "cell_type": "code",
   "execution_count": 20,
   "id": "c6dc7216",
   "metadata": {},
   "outputs": [
    {
     "data": {
      "text/html": [
       "<div>\n",
       "<style scoped>\n",
       "    .dataframe tbody tr th:only-of-type {\n",
       "        vertical-align: middle;\n",
       "    }\n",
       "\n",
       "    .dataframe tbody tr th {\n",
       "        vertical-align: top;\n",
       "    }\n",
       "\n",
       "    .dataframe thead th {\n",
       "        text-align: right;\n",
       "    }\n",
       "</style>\n",
       "<table border=\"1\" class=\"dataframe\">\n",
       "  <thead>\n",
       "    <tr style=\"text-align: right;\">\n",
       "      <th></th>\n",
       "      <th>Tweet</th>\n",
       "      <th>Subjectivity</th>\n",
       "      <th>Polarity</th>\n",
       "    </tr>\n",
       "  </thead>\n",
       "  <tbody>\n",
       "    <tr>\n",
       "      <th>0</th>\n",
       "      <td>More photos from last night's Falcon 9 launch ...</td>\n",
       "      <td>0.188889</td>\n",
       "      <td>0.166667</td>\n",
       "    </tr>\n",
       "    <tr>\n",
       "      <th>1</th>\n",
       "      <td>Deployment confirmed, ’s DART is on its way to...</td>\n",
       "      <td>1.000000</td>\n",
       "      <td>0.400000</td>\n",
       "    </tr>\n",
       "    <tr>\n",
       "      <th>2</th>\n",
       "      <td>Second stage engine restart and escape burn co...</td>\n",
       "      <td>0.200000</td>\n",
       "      <td>0.050000</td>\n",
       "    </tr>\n",
       "    <tr>\n",
       "      <th>3</th>\n",
       "      <td>Falcon 9’s first stage booster landed on the O...</td>\n",
       "      <td>0.466667</td>\n",
       "      <td>0.375000</td>\n",
       "    </tr>\n",
       "    <tr>\n",
       "      <th>4</th>\n",
       "      <td>Second stage engine cutoff confirmed, now in c...</td>\n",
       "      <td>0.500000</td>\n",
       "      <td>0.200000</td>\n",
       "    </tr>\n",
       "    <tr>\n",
       "      <th>...</th>\n",
       "      <td>...</td>\n",
       "      <td>...</td>\n",
       "      <td>...</td>\n",
       "    </tr>\n",
       "    <tr>\n",
       "      <th>95</th>\n",
       "      <td>LIVE NOW: A  Dragon spacecraft returns to Eart...</td>\n",
       "      <td>0.500000</td>\n",
       "      <td>0.318182</td>\n",
       "    </tr>\n",
       "    <tr>\n",
       "      <th>96</th>\n",
       "      <td>After its ~one-month stay at the , the Dragon ...</td>\n",
       "      <td>0.250000</td>\n",
       "      <td>0.250000</td>\n",
       "    </tr>\n",
       "    <tr>\n",
       "      <th>97</th>\n",
       "      <td>On Thurs., Sept. 30,  that could help us bette...</td>\n",
       "      <td>0.500000</td>\n",
       "      <td>0.500000</td>\n",
       "    </tr>\n",
       "    <tr>\n",
       "      <th>98</th>\n",
       "      <td>More pics from  return →</td>\n",
       "      <td>0.500000</td>\n",
       "      <td>0.500000</td>\n",
       "    </tr>\n",
       "    <tr>\n",
       "      <th>99</th>\n",
       "      <td>The moment when me and my amazing crew, , ,  o...</td>\n",
       "      <td>0.900000</td>\n",
       "      <td>0.600000</td>\n",
       "    </tr>\n",
       "  </tbody>\n",
       "</table>\n",
       "<p>100 rows × 3 columns</p>\n",
       "</div>"
      ],
      "text/plain": [
       "                                                Tweet  Subjectivity  Polarity\n",
       "0   More photos from last night's Falcon 9 launch ...      0.188889  0.166667\n",
       "1   Deployment confirmed, ’s DART is on its way to...      1.000000  0.400000\n",
       "2   Second stage engine restart and escape burn co...      0.200000  0.050000\n",
       "3   Falcon 9’s first stage booster landed on the O...      0.466667  0.375000\n",
       "4   Second stage engine cutoff confirmed, now in c...      0.500000  0.200000\n",
       "..                                                ...           ...       ...\n",
       "95  LIVE NOW: A  Dragon spacecraft returns to Eart...      0.500000  0.318182\n",
       "96  After its ~one-month stay at the , the Dragon ...      0.250000  0.250000\n",
       "97  On Thurs., Sept. 30,  that could help us bette...      0.500000  0.500000\n",
       "98                         More pics from  return →        0.500000  0.500000\n",
       "99  The moment when me and my amazing crew, , ,  o...      0.900000  0.600000\n",
       "\n",
       "[100 rows x 3 columns]"
      ]
     },
     "execution_count": 20,
     "metadata": {},
     "output_type": "execute_result"
    }
   ],
   "source": [
    "df.head(noOfTweet)"
   ]
  },
  {
   "cell_type": "code",
   "execution_count": 21,
   "id": "ad9dc143",
   "metadata": {},
   "outputs": [],
   "source": [
    "df = df.drop(df[df['Tweet'] == ''].index)"
   ]
  },
  {
   "cell_type": "code",
   "execution_count": 22,
   "id": "3aabf838",
   "metadata": {},
   "outputs": [
    {
     "data": {
      "text/html": [
       "<div>\n",
       "<style scoped>\n",
       "    .dataframe tbody tr th:only-of-type {\n",
       "        vertical-align: middle;\n",
       "    }\n",
       "\n",
       "    .dataframe tbody tr th {\n",
       "        vertical-align: top;\n",
       "    }\n",
       "\n",
       "    .dataframe thead th {\n",
       "        text-align: right;\n",
       "    }\n",
       "</style>\n",
       "<table border=\"1\" class=\"dataframe\">\n",
       "  <thead>\n",
       "    <tr style=\"text-align: right;\">\n",
       "      <th></th>\n",
       "      <th>Tweet</th>\n",
       "      <th>Subjectivity</th>\n",
       "      <th>Polarity</th>\n",
       "    </tr>\n",
       "  </thead>\n",
       "  <tbody>\n",
       "    <tr>\n",
       "      <th>0</th>\n",
       "      <td>More photos from last night's Falcon 9 launch ...</td>\n",
       "      <td>0.188889</td>\n",
       "      <td>0.166667</td>\n",
       "    </tr>\n",
       "    <tr>\n",
       "      <th>1</th>\n",
       "      <td>Deployment confirmed, ’s DART is on its way to...</td>\n",
       "      <td>1.000000</td>\n",
       "      <td>0.400000</td>\n",
       "    </tr>\n",
       "    <tr>\n",
       "      <th>2</th>\n",
       "      <td>Second stage engine restart and escape burn co...</td>\n",
       "      <td>0.200000</td>\n",
       "      <td>0.050000</td>\n",
       "    </tr>\n",
       "    <tr>\n",
       "      <th>3</th>\n",
       "      <td>Falcon 9’s first stage booster landed on the O...</td>\n",
       "      <td>0.466667</td>\n",
       "      <td>0.375000</td>\n",
       "    </tr>\n",
       "    <tr>\n",
       "      <th>4</th>\n",
       "      <td>Second stage engine cutoff confirmed, now in c...</td>\n",
       "      <td>0.500000</td>\n",
       "      <td>0.200000</td>\n",
       "    </tr>\n",
       "    <tr>\n",
       "      <th>...</th>\n",
       "      <td>...</td>\n",
       "      <td>...</td>\n",
       "      <td>...</td>\n",
       "    </tr>\n",
       "    <tr>\n",
       "      <th>95</th>\n",
       "      <td>LIVE NOW: A  Dragon spacecraft returns to Eart...</td>\n",
       "      <td>0.500000</td>\n",
       "      <td>0.318182</td>\n",
       "    </tr>\n",
       "    <tr>\n",
       "      <th>96</th>\n",
       "      <td>After its ~one-month stay at the , the Dragon ...</td>\n",
       "      <td>0.250000</td>\n",
       "      <td>0.250000</td>\n",
       "    </tr>\n",
       "    <tr>\n",
       "      <th>97</th>\n",
       "      <td>On Thurs., Sept. 30,  that could help us bette...</td>\n",
       "      <td>0.500000</td>\n",
       "      <td>0.500000</td>\n",
       "    </tr>\n",
       "    <tr>\n",
       "      <th>98</th>\n",
       "      <td>More pics from  return →</td>\n",
       "      <td>0.500000</td>\n",
       "      <td>0.500000</td>\n",
       "    </tr>\n",
       "    <tr>\n",
       "      <th>99</th>\n",
       "      <td>The moment when me and my amazing crew, , ,  o...</td>\n",
       "      <td>0.900000</td>\n",
       "      <td>0.600000</td>\n",
       "    </tr>\n",
       "  </tbody>\n",
       "</table>\n",
       "<p>100 rows × 3 columns</p>\n",
       "</div>"
      ],
      "text/plain": [
       "                                                Tweet  Subjectivity  Polarity\n",
       "0   More photos from last night's Falcon 9 launch ...      0.188889  0.166667\n",
       "1   Deployment confirmed, ’s DART is on its way to...      1.000000  0.400000\n",
       "2   Second stage engine restart and escape burn co...      0.200000  0.050000\n",
       "3   Falcon 9’s first stage booster landed on the O...      0.466667  0.375000\n",
       "4   Second stage engine cutoff confirmed, now in c...      0.500000  0.200000\n",
       "..                                                ...           ...       ...\n",
       "95  LIVE NOW: A  Dragon spacecraft returns to Eart...      0.500000  0.318182\n",
       "96  After its ~one-month stay at the , the Dragon ...      0.250000  0.250000\n",
       "97  On Thurs., Sept. 30,  that could help us bette...      0.500000  0.500000\n",
       "98                         More pics from  return →        0.500000  0.500000\n",
       "99  The moment when me and my amazing crew, , ,  o...      0.900000  0.600000\n",
       "\n",
       "[100 rows x 3 columns]"
      ]
     },
     "execution_count": 22,
     "metadata": {},
     "output_type": "execute_result"
    }
   ],
   "source": [
    "df.head(noOfTweet)"
   ]
  },
  {
   "cell_type": "code",
   "execution_count": 23,
   "id": "a3369d6a",
   "metadata": {},
   "outputs": [],
   "source": [
    "# negative, nautral, positive analysis\n",
    "def getTextAnalysis(a):\n",
    "    if a < 0:\n",
    "        return \"Negative\"\n",
    "    elif a == 0:\n",
    "        return \"Neutral\"\n",
    "    else:\n",
    "        return \"Positive\""
   ]
  },
  {
   "cell_type": "code",
   "execution_count": 24,
   "id": "ace0b156",
   "metadata": {},
   "outputs": [],
   "source": [
    "df['Score'] = df['Polarity'].apply(getTextAnalysis)"
   ]
  },
  {
   "cell_type": "code",
   "execution_count": null,
   "id": "dd629661",
   "metadata": {},
   "outputs": [],
   "source": []
  }
 ],
 "metadata": {
  "kernelspec": {
   "display_name": "Python 3 (ipykernel)",
   "language": "python",
   "name": "python3"
  },
  "language_info": {
   "codemirror_mode": {
    "name": "ipython",
    "version": 3
   },
   "file_extension": ".py",
   "mimetype": "text/x-python",
   "name": "python",
   "nbconvert_exporter": "python",
   "pygments_lexer": "ipython3",
   "version": "3.9.1"
  }
 },
 "nbformat": 4,
 "nbformat_minor": 5
}
